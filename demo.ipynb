{
 "cells": [
  {
   "cell_type": "code",
   "execution_count": 1,
   "id": "44be6053",
   "metadata": {},
   "outputs": [],
   "source": [
    "import tensorflow as tf \n",
    "from tensorflow import keras\n",
    "from keras.models import Sequential\n",
    "from keras.layers import Dense, Dropout, Flatten, Activation\n",
    "from keras.layers import Conv2D, MaxPooling2D\n",
    "\n",
    "import PIL.Image\n",
    "\n",
    "import pandas as pd\n",
    "#from keras.utils import plot_model\n",
    "from keras.utils.vis_utils import plot_model\n",
    "#from keras.utils import np_utils\n",
    "from keras import utils as np_utils\n",
    "#from keras.utils import to_categorical\n",
    "from tensorflow.keras.utils import to_categorical\n",
    "pd.set_option('display.max_columns',None)#displaying long list of columns\n",
    "pd.set_option('display.max_rows', None)#displaying long list of rows\n",
    "pd.set_option('display.width', 1000)#width of window\n"
   ]
  },
  {
   "cell_type": "code",
   "execution_count": 2,
   "id": "58e3dde6",
   "metadata": {},
   "outputs": [],
   "source": [
    "# Load data\n",
    "# CIFAR-10 is a dataset with 60000 32x32 colour images grouped in 10 classes, that means 6000 images per class. \n",
    "# This is a dataset of 50,000 32x32 color training images and 10,000 test images, labeled over 10 categories.\n",
    "# The categories are airplane, automobile, beer, cat, deer, dog, frog, horse, ship, truck. \n",
    "# We can take advantage of the fact that these categories and a lot more are into the Imagenet collection.\n",
    "# Loading the CIFAR-10 datasets\n",
    "from keras.datasets import cifar10"
   ]
  },
  {
   "cell_type": "code",
   "execution_count": 3,
   "id": "0388dea6",
   "metadata": {},
   "outputs": [],
   "source": [
    "# Preprocess data function\n",
    "# Now that the data is loaded, we are going to build a preprocess function for the data. \n",
    "# We have X as a numpy array of shape (m, 32, 32, 3) where m is the number of images, \n",
    "# 32 and 32 the dimensions, and 3 is because we use color images (RGB). \n",
    "# We have a set of X for training and a set of X for validation. \n",
    "# Y is a numpy array of shape (m, ) that we want to be our labels. \n",
    "# Since we work with 10 different categories, we make use of one-hot encoding with a \n",
    "# function of Keras that makes our Y into a shape of (m, 10). That also applies for the validation.\n",
    "\n",
    "def preprocess_data(X,Y):\n",
    "  X_p = keras.applications.resnet50.preprocess_input(X)\n",
    "  Y_p = keras.utils.to_categorical(Y,10)\n",
    "  return X_p, Y_p"
   ]
  },
  {
   "cell_type": "code",
   "execution_count": 4,
   "id": "e80d1b05",
   "metadata": {},
   "outputs": [
    {
     "name": "stdout",
     "output_type": "stream",
     "text": [
      "x_train shape: (50000, 32, 32, 3)\n",
      "y_train shape: (50000, 1)\n"
     ]
    }
   ],
   "source": [
    "# load and split data\n",
    "# The data, split between train and test sets:\n",
    "\n",
    "#(x_train, y_train), (x_test, y_test) = K.datasets.cifar10.load_data()\n",
    "(x_train, y_train), (x_test, y_test) = cifar10.load_data()\n",
    "print('x_train shape:', x_train.shape)\n",
    "print('y_train shape:', y_train.shape)"
   ]
  },
  {
   "cell_type": "code",
   "execution_count": 5,
   "id": "9091efa1",
   "metadata": {},
   "outputs": [
    {
     "name": "stdout",
     "output_type": "stream",
     "text": [
      "x_train shape: (50000, 32, 32, 3)\n",
      "y_train shape: (50000, 10)\n"
     ]
    }
   ],
   "source": [
    "# Preprocess data\n",
    "## Next, we are going to call our function with the parameters loaded from the CIFAR10 database.\n",
    "\n",
    "x_train, y_train = preprocess_data(x_train, y_train)\n",
    "x_test, y_test = preprocess_data(x_test, y_test)\n",
    "print('x_train shape:', x_train.shape)\n",
    "print('y_train shape:', y_train.shape)"
   ]
  },
  {
   "cell_type": "code",
   "execution_count": 6,
   "id": "db5c6cf9",
   "metadata": {},
   "outputs": [
    {
     "name": "stderr",
     "output_type": "stream",
     "text": [
      "2021-12-24 17:42:44.850276: I tensorflow/core/common_runtime/pluggable_device/pluggable_device_factory.cc:305] Could not identify NUMA node of platform GPU ID 0, defaulting to 0. Your kernel may not have been built with NUMA support.\n",
      "2021-12-24 17:42:44.851270: I tensorflow/core/common_runtime/pluggable_device/pluggable_device_factory.cc:271] Created TensorFlow device (/job:localhost/replica:0/task:0/device:GPU:0 with 0 MB memory) -> physical PluggableDevice (device: 0, name: METAL, pci bus id: <undefined>)\n"
     ]
    },
    {
     "name": "stdout",
     "output_type": "stream",
     "text": [
      "Metal device set to: Apple M1 Pro\n"
     ]
    }
   ],
   "source": [
    "# Using weights of a trained neural network\n",
    "# A pretrained model from the Keras Applications has the advantage of allow you to use weights that\n",
    "# are already calibrated to make predictions. In this case, we use the weights from Imagenet \n",
    "# and the network is a ResNet50. The option include_top=False allows feature extraction by removing \n",
    "# the last dense layers. This let us control the output and input of the model.\n",
    "\n",
    "input_t = keras.Input(shape=(224,224,3))\n",
    "res_model = keras.applications.ResNet50(include_top=False,\n",
    "                                    weights=\"imagenet\",\n",
    "                                    input_tensor=input_t)"
   ]
  },
  {
   "cell_type": "code",
   "execution_count": 7,
   "id": "22468aa6",
   "metadata": {},
   "outputs": [
    {
     "data": {
      "text/plain": [
       "<KerasTensor: shape=(None, 224, 224, 3) dtype=float32 (created by layer 'input_1')>"
      ]
     },
     "execution_count": 7,
     "metadata": {},
     "output_type": "execute_result"
    }
   ],
   "source": [
    "input_t"
   ]
  },
  {
   "cell_type": "code",
   "execution_count": 8,
   "id": "8efd7b40",
   "metadata": {},
   "outputs": [],
   "source": [
    "# In this case, we ‘freeze’ all layers except for the last block of the ResNet50.\n",
    "\n",
    "for layer in res_model.layers[:123]:\n",
    "  layer.trainable=False"
   ]
  },
  {
   "cell_type": "code",
   "execution_count": 9,
   "id": "daa43e8c",
   "metadata": {},
   "outputs": [
    {
     "name": "stdout",
     "output_type": "stream",
     "text": [
      "0 input_1 - False\n",
      "1 conv1_pad - False\n",
      "2 conv1_conv - False\n",
      "3 conv1_bn - False\n",
      "4 conv1_relu - False\n",
      "5 pool1_pad - False\n",
      "6 pool1_pool - False\n",
      "7 conv2_block1_1_conv - False\n",
      "8 conv2_block1_1_bn - False\n",
      "9 conv2_block1_1_relu - False\n",
      "10 conv2_block1_2_conv - False\n",
      "11 conv2_block1_2_bn - False\n",
      "12 conv2_block1_2_relu - False\n",
      "13 conv2_block1_0_conv - False\n",
      "14 conv2_block1_3_conv - False\n",
      "15 conv2_block1_0_bn - False\n",
      "16 conv2_block1_3_bn - False\n",
      "17 conv2_block1_add - False\n",
      "18 conv2_block1_out - False\n",
      "19 conv2_block2_1_conv - False\n",
      "20 conv2_block2_1_bn - False\n",
      "21 conv2_block2_1_relu - False\n",
      "22 conv2_block2_2_conv - False\n",
      "23 conv2_block2_2_bn - False\n",
      "24 conv2_block2_2_relu - False\n",
      "25 conv2_block2_3_conv - False\n",
      "26 conv2_block2_3_bn - False\n",
      "27 conv2_block2_add - False\n",
      "28 conv2_block2_out - False\n",
      "29 conv2_block3_1_conv - False\n",
      "30 conv2_block3_1_bn - False\n",
      "31 conv2_block3_1_relu - False\n",
      "32 conv2_block3_2_conv - False\n",
      "33 conv2_block3_2_bn - False\n",
      "34 conv2_block3_2_relu - False\n",
      "35 conv2_block3_3_conv - False\n",
      "36 conv2_block3_3_bn - False\n",
      "37 conv2_block3_add - False\n",
      "38 conv2_block3_out - False\n",
      "39 conv3_block1_1_conv - False\n",
      "40 conv3_block1_1_bn - False\n",
      "41 conv3_block1_1_relu - False\n",
      "42 conv3_block1_2_conv - False\n",
      "43 conv3_block1_2_bn - False\n",
      "44 conv3_block1_2_relu - False\n",
      "45 conv3_block1_0_conv - False\n",
      "46 conv3_block1_3_conv - False\n",
      "47 conv3_block1_0_bn - False\n",
      "48 conv3_block1_3_bn - False\n",
      "49 conv3_block1_add - False\n",
      "50 conv3_block1_out - False\n",
      "51 conv3_block2_1_conv - False\n",
      "52 conv3_block2_1_bn - False\n",
      "53 conv3_block2_1_relu - False\n",
      "54 conv3_block2_2_conv - False\n",
      "55 conv3_block2_2_bn - False\n",
      "56 conv3_block2_2_relu - False\n",
      "57 conv3_block2_3_conv - False\n",
      "58 conv3_block2_3_bn - False\n",
      "59 conv3_block2_add - False\n",
      "60 conv3_block2_out - False\n",
      "61 conv3_block3_1_conv - False\n",
      "62 conv3_block3_1_bn - False\n",
      "63 conv3_block3_1_relu - False\n",
      "64 conv3_block3_2_conv - False\n",
      "65 conv3_block3_2_bn - False\n",
      "66 conv3_block3_2_relu - False\n",
      "67 conv3_block3_3_conv - False\n",
      "68 conv3_block3_3_bn - False\n",
      "69 conv3_block3_add - False\n",
      "70 conv3_block3_out - False\n",
      "71 conv3_block4_1_conv - False\n",
      "72 conv3_block4_1_bn - False\n",
      "73 conv3_block4_1_relu - False\n",
      "74 conv3_block4_2_conv - False\n",
      "75 conv3_block4_2_bn - False\n",
      "76 conv3_block4_2_relu - False\n",
      "77 conv3_block4_3_conv - False\n",
      "78 conv3_block4_3_bn - False\n",
      "79 conv3_block4_add - False\n",
      "80 conv3_block4_out - False\n",
      "81 conv4_block1_1_conv - False\n",
      "82 conv4_block1_1_bn - False\n",
      "83 conv4_block1_1_relu - False\n",
      "84 conv4_block1_2_conv - False\n",
      "85 conv4_block1_2_bn - False\n",
      "86 conv4_block1_2_relu - False\n",
      "87 conv4_block1_0_conv - False\n",
      "88 conv4_block1_3_conv - False\n",
      "89 conv4_block1_0_bn - False\n",
      "90 conv4_block1_3_bn - False\n",
      "91 conv4_block1_add - False\n",
      "92 conv4_block1_out - False\n",
      "93 conv4_block2_1_conv - False\n",
      "94 conv4_block2_1_bn - False\n",
      "95 conv4_block2_1_relu - False\n",
      "96 conv4_block2_2_conv - False\n",
      "97 conv4_block2_2_bn - False\n",
      "98 conv4_block2_2_relu - False\n",
      "99 conv4_block2_3_conv - False\n",
      "100 conv4_block2_3_bn - False\n",
      "101 conv4_block2_add - False\n",
      "102 conv4_block2_out - False\n",
      "103 conv4_block3_1_conv - False\n",
      "104 conv4_block3_1_bn - False\n",
      "105 conv4_block3_1_relu - False\n",
      "106 conv4_block3_2_conv - False\n",
      "107 conv4_block3_2_bn - False\n",
      "108 conv4_block3_2_relu - False\n",
      "109 conv4_block3_3_conv - False\n",
      "110 conv4_block3_3_bn - False\n",
      "111 conv4_block3_add - False\n",
      "112 conv4_block3_out - False\n",
      "113 conv4_block4_1_conv - False\n",
      "114 conv4_block4_1_bn - False\n",
      "115 conv4_block4_1_relu - False\n",
      "116 conv4_block4_2_conv - False\n",
      "117 conv4_block4_2_bn - False\n",
      "118 conv4_block4_2_relu - False\n",
      "119 conv4_block4_3_conv - False\n",
      "120 conv4_block4_3_bn - False\n",
      "121 conv4_block4_add - False\n",
      "122 conv4_block4_out - False\n",
      "123 conv4_block5_1_conv - True\n",
      "124 conv4_block5_1_bn - True\n",
      "125 conv4_block5_1_relu - True\n",
      "126 conv4_block5_2_conv - True\n",
      "127 conv4_block5_2_bn - True\n",
      "128 conv4_block5_2_relu - True\n",
      "129 conv4_block5_3_conv - True\n",
      "130 conv4_block5_3_bn - True\n",
      "131 conv4_block5_add - True\n",
      "132 conv4_block5_out - True\n",
      "133 conv4_block6_1_conv - True\n",
      "134 conv4_block6_1_bn - True\n",
      "135 conv4_block6_1_relu - True\n",
      "136 conv4_block6_2_conv - True\n",
      "137 conv4_block6_2_bn - True\n",
      "138 conv4_block6_2_relu - True\n",
      "139 conv4_block6_3_conv - True\n",
      "140 conv4_block6_3_bn - True\n",
      "141 conv4_block6_add - True\n",
      "142 conv4_block6_out - True\n",
      "143 conv5_block1_1_conv - True\n",
      "144 conv5_block1_1_bn - True\n",
      "145 conv5_block1_1_relu - True\n",
      "146 conv5_block1_2_conv - True\n",
      "147 conv5_block1_2_bn - True\n",
      "148 conv5_block1_2_relu - True\n",
      "149 conv5_block1_0_conv - True\n",
      "150 conv5_block1_3_conv - True\n",
      "151 conv5_block1_0_bn - True\n",
      "152 conv5_block1_3_bn - True\n",
      "153 conv5_block1_add - True\n",
      "154 conv5_block1_out - True\n",
      "155 conv5_block2_1_conv - True\n",
      "156 conv5_block2_1_bn - True\n",
      "157 conv5_block2_1_relu - True\n",
      "158 conv5_block2_2_conv - True\n",
      "159 conv5_block2_2_bn - True\n",
      "160 conv5_block2_2_relu - True\n",
      "161 conv5_block2_3_conv - True\n",
      "162 conv5_block2_3_bn - True\n",
      "163 conv5_block2_add - True\n",
      "164 conv5_block2_out - True\n",
      "165 conv5_block3_1_conv - True\n",
      "166 conv5_block3_1_bn - True\n",
      "167 conv5_block3_1_relu - True\n",
      "168 conv5_block3_2_conv - True\n",
      "169 conv5_block3_2_bn - True\n",
      "170 conv5_block3_2_relu - True\n",
      "171 conv5_block3_3_conv - True\n",
      "172 conv5_block3_3_bn - True\n",
      "173 conv5_block3_add - True\n",
      "174 conv5_block3_out - True\n"
     ]
    }
   ],
   "source": [
    "# We can check that we did it correctly with:\n",
    "# False means that the layer is ‘freezed’ or is not trainable and \n",
    "# True that when we run our model, the weights are going to be adjusted.\n",
    "\n",
    "for i, layer in enumerate(res_model.layers):\n",
    "  print(i,layer.name,\"-\",layer.trainable)"
   ]
  },
  {
   "cell_type": "code",
   "execution_count": 10,
   "id": "81719ac2",
   "metadata": {},
   "outputs": [],
   "source": [
    "    # Add Flatten and Dense layers on top of Resnet\n",
    "    # Now, we need to connect our pretrained model with the new layers \n",
    "    # of our model. We can use global pooling or a flatten layer to connect \n",
    "    # the dimensions of the previous layers with the new layers. \n",
    "    \n",
    "    to_res = (224, 224)\n",
    "    #to_res = (32, 32)\n",
    "\n",
    "    model = keras.models.Sequential()\n",
    "    model.add(keras.layers.Lambda(lambda image: tf.image.resize(image, to_res))) \n",
    "    model.add(res_model)\n",
    "    model.add(keras.layers.Flatten())\n",
    "    model.add(keras.layers.BatchNormalization())\n",
    "    model.add(keras.layers.Dense(256, activation='relu'))\n",
    "    model.add(keras.layers.Dropout(0.05))\n",
    "    model.add(keras.layers.BatchNormalization())\n",
    "    model.add(keras.layers.Dense(128, activation='relu'))\n",
    "    model.add(keras.layers.Dropout(0.25))\n",
    "    model.add(keras.layers.BatchNormalization())\n",
    "    model.add(keras.layers.Dense(64, activation='relu'))\n",
    "    model.add(keras.layers.Dropout(0.5))\n",
    "    model.add(keras.layers.BatchNormalization())\n",
    "    model.add(keras.layers.Dense(10, activation='softmax'))"
   ]
  },
  {
   "cell_type": "code",
   "execution_count": 11,
   "id": "44a40cc0",
   "metadata": {},
   "outputs": [
    {
     "data": {
      "text/plain": [
       "<keras.engine.sequential.Sequential at 0x298e754f0>"
      ]
     },
     "execution_count": 11,
     "metadata": {},
     "output_type": "execute_result"
    }
   ],
   "source": [
    "model"
   ]
  },
  {
   "cell_type": "code",
   "execution_count": 11,
   "id": "e1bee4ca",
   "metadata": {},
   "outputs": [
    {
     "name": "stdout",
     "output_type": "stream",
     "text": [
      "Epoch 1/2\n"
     ]
    },
    {
     "name": "stderr",
     "output_type": "stream",
     "text": [
      "2021-12-16 12:59:35.842850: I tensorflow/core/grappler/optimizers/custom_graph_optimizer_registry.cc:112] Plugin optimizer for device_type GPU is enabled.\n"
     ]
    },
    {
     "name": "stdout",
     "output_type": "stream",
     "text": [
      "1563/1563 [==============================] - ETA: 0s - loss: 0.8135 - accuracy: 0.7752"
     ]
    },
    {
     "name": "stderr",
     "output_type": "stream",
     "text": [
      "2021-12-16 13:08:33.414773: I tensorflow/core/grappler/optimizers/custom_graph_optimizer_registry.cc:112] Plugin optimizer for device_type GPU is enabled.\n"
     ]
    },
    {
     "name": "stdout",
     "output_type": "stream",
     "text": [
      "1563/1563 [==============================] - 614s 390ms/step - loss: 0.8135 - accuracy: 0.7752 - val_loss: 0.3104 - val_accuracy: 0.9230\n",
      "Epoch 2/2\n",
      "1563/1563 [==============================] - 607s 388ms/step - loss: 0.4431 - accuracy: 0.9044 - val_loss: 0.2391 - val_accuracy: 0.9371\n",
      "Model: \"sequential\"\n",
      "_________________________________________________________________\n",
      " Layer (type)                Output Shape              Param #   \n",
      "=================================================================\n",
      " lambda (Lambda)             (None, 224, 224, 3)       0         \n",
      "                                                                 \n",
      " resnet50 (Functional)       (None, 7, 7, 2048)        23587712  \n",
      "                                                                 \n",
      " flatten (Flatten)           (None, 100352)            0         \n",
      "                                                                 \n",
      " batch_normalization (BatchN  (None, 100352)           401408    \n",
      " ormalization)                                                   \n",
      "                                                                 \n",
      " dense (Dense)               (None, 256)               25690368  \n",
      "                                                                 \n",
      " dropout (Dropout)           (None, 256)               0         \n",
      "                                                                 \n",
      " batch_normalization_1 (Batc  (None, 256)              1024      \n",
      " hNormalization)                                                 \n",
      "                                                                 \n",
      " dense_1 (Dense)             (None, 128)               32896     \n",
      "                                                                 \n",
      " dropout_1 (Dropout)         (None, 128)               0         \n",
      "                                                                 \n",
      " batch_normalization_2 (Batc  (None, 128)              512       \n",
      " hNormalization)                                                 \n",
      "                                                                 \n",
      " dense_2 (Dense)             (None, 64)                8256      \n",
      "                                                                 \n",
      " dropout_2 (Dropout)         (None, 64)                0         \n",
      "                                                                 \n",
      " batch_normalization_3 (Batc  (None, 64)               256       \n",
      " hNormalization)                                                 \n",
      "                                                                 \n",
      " dense_3 (Dense)             (None, 10)                650       \n",
      "                                                                 \n",
      "=================================================================\n",
      "Total params: 49,723,082\n",
      "Trainable params: 43,147,210\n",
      "Non-trainable params: 6,575,872\n",
      "_________________________________________________________________\n"
     ]
    }
   ],
   "source": [
    "# Compile model and train\n",
    "# Results\n",
    "# We obtained an accuracy of 94% on training set and 90% on validation with 10 epochs.\n",
    "# In the 8th epoch, the values are very similar and it is interesting to note that \n",
    "# in the first validation accuracy is higher than training. \n",
    "# This is because of dropout use, which in Keras, it has a different behavior \n",
    "# for training and testing. In testing time, all the features are ready and \n",
    "# the dropout is turned off, resulting in a better accuracy. \n",
    "# This readjust on the last epochs since the model continues changing on the training.\n",
    "\n",
    "model.compile(loss='categorical_crossentropy',\n",
    "                  optimizer=keras.optimizers.RMSprop(lr=2e-5),\n",
    "                  metrics=['accuracy'])\n",
    "history = model.fit(x_train, y_train, batch_size=32, epochs=2, verbose=1,\n",
    "                        validation_data=(x_test, y_test)\n",
    "                       )\n",
    "model.summary()\n",
    "  # model.save(\"cifar10.h5\")  "
   ]
  },
  {
   "cell_type": "code",
   "execution_count": null,
   "id": "bde66617",
   "metadata": {},
   "outputs": [],
   "source": []
  }
 ],
 "metadata": {
  "kernelspec": {
   "display_name": "Python 3 (ipykernel)",
   "language": "python",
   "name": "python3"
  },
  "language_info": {
   "codemirror_mode": {
    "name": "ipython",
    "version": 3
   },
   "file_extension": ".py",
   "mimetype": "text/x-python",
   "name": "python",
   "nbconvert_exporter": "python",
   "pygments_lexer": "ipython3",
   "version": "3.9.7"
  }
 },
 "nbformat": 4,
 "nbformat_minor": 5
}
