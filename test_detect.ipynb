{
 "cells": [
  {
   "cell_type": "code",
   "execution_count": 1,
   "id": "159c2eff",
   "metadata": {},
   "outputs": [],
   "source": [
    "import pandas as pd\n",
    "import numpy as np\n",
    "import matplotlib.pyplot as plt\n",
    "\n",
    "import tensorflow as tf\n",
    "from sklearn.feature_extraction.text import TfidfVectorizer"
   ]
  },
  {
   "cell_type": "code",
   "execution_count": 2,
   "id": "feebc0e3",
   "metadata": {},
   "outputs": [],
   "source": [
    "df = pd.read_json(\"/Users/davidli/Documents/asu/cis509/assignment1/political_orientation_data.json\",lines=True)"
   ]
  },
  {
   "cell_type": "code",
   "execution_count": 6,
   "id": "53f32517",
   "metadata": {},
   "outputs": [
    {
     "data": {
      "text/plain": [
       "5000"
      ]
     },
     "execution_count": 6,
     "metadata": {},
     "output_type": "execute_result"
    }
   ],
   "source": [
    "len(df)"
   ]
  },
  {
   "cell_type": "code",
   "execution_count": 5,
   "id": "75dd105e",
   "metadata": {},
   "outputs": [
    {
     "data": {
      "text/plain": [
       "TfidfVectorizer(max_features=10000)"
      ]
     },
     "execution_count": 5,
     "metadata": {},
     "output_type": "execute_result"
    }
   ],
   "source": [
    "review_corpus = [] # store all reviews here so that we can fit the vectorizer with this dataset\n",
    "y = []\n",
    "for index, row in df.iterrows():\n",
    "    review_text = row['text'] \n",
    "    if row['label'] == \"Liberal\":\n",
    "        label = 1 # positive\n",
    "    else:\n",
    "        label = 0 # negative\n",
    "    review_corpus.append(review_text)\n",
    "    y.append(label)\n",
    "vectorizer = TfidfVectorizer(max_features=10000) # the value of max_features is dependent on how you design your model\n",
    "vectorizer.fit(review_corpus) # fit the vectorizer with the entire dataset\n",
    "# once we fitted the vectorizer, we use it for converting raw text (review) into vectors\n",
    "vectorized_review = vectorizer.transform(review_corpus)"
   ]
  },
  {
   "cell_type": "code",
   "execution_count": 6,
   "id": "2cde5014",
   "metadata": {},
   "outputs": [],
   "source": [
    "X, Y = vectorized_review.toarray(), np.asarray(y)"
   ]
  },
  {
   "cell_type": "code",
   "execution_count": 7,
   "id": "d0e3185c",
   "metadata": {},
   "outputs": [
    {
     "name": "stdout",
     "output_type": "stream",
     "text": [
      "Metal device set to: Apple M1 Pro\n"
     ]
    },
    {
     "name": "stderr",
     "output_type": "stream",
     "text": [
      "2022-03-24 21:54:00.153900: I tensorflow/core/common_runtime/pluggable_device/pluggable_device_factory.cc:305] Could not identify NUMA node of platform GPU ID 0, defaulting to 0. Your kernel may not have been built with NUMA support.\n",
      "2022-03-24 21:54:00.154193: I tensorflow/core/common_runtime/pluggable_device/pluggable_device_factory.cc:271] Created TensorFlow device (/job:localhost/replica:0/task:0/device:GPU:0 with 0 MB memory) -> physical PluggableDevice (device: 0, name: METAL, pci bus id: <undefined>)\n"
     ]
    }
   ],
   "source": [
    "input_layer = tf.keras.Input(shape=10000, name=\"input_layer\")\n",
    "hidden_layer_1 = tf.keras.layers.Dense(units=5000, activation=\"relu\", name=\"hidden-layer-ReLU-1\")(input_layer)\n",
    "hidden_layer_2 = tf.keras.layers.Dense(units=2500, activation=\"relu\", name=\"hidden-layer-ReLU-2\")(hidden_layer_1)\n",
    "output_layer = tf.keras.layers.Dense(units=1, activation=\"sigmoid\", name=\"output_layer\")(hidden_layer_2) \n",
    "\n",
    "model = tf.keras.Model(inputs=input_layer, outputs=output_layer, name=\"classifier\")\n",
    "model.compile(loss=\"binary_crossentropy\", optimizer=\"SGD\", metrics=[tf.keras.metrics.BinaryAccuracy(name=\"accuracy\")])"
   ]
  },
  {
   "cell_type": "code",
   "execution_count": 8,
   "id": "7e93ae94",
   "metadata": {},
   "outputs": [
    {
     "name": "stdout",
     "output_type": "stream",
     "text": [
      "Model: \"classifier\"\n",
      "_________________________________________________________________\n",
      " Layer (type)                Output Shape              Param #   \n",
      "=================================================================\n",
      " input_layer (InputLayer)    [(None, 10000)]           0         \n",
      "                                                                 \n",
      " hidden-layer-ReLU-1 (Dense)  (None, 5000)             50005000  \n",
      "                                                                 \n",
      " hidden-layer-ReLU-2 (Dense)  (None, 2500)             12502500  \n",
      "                                                                 \n",
      " output_layer (Dense)        (None, 1)                 2501      \n",
      "                                                                 \n",
      "=================================================================\n",
      "Total params: 62,510,001\n",
      "Trainable params: 62,510,001\n",
      "Non-trainable params: 0\n",
      "_________________________________________________________________\n"
     ]
    },
    {
     "data": {
      "image/png": "[encoded data removed]",
      "text/plain": [
       "<IPython.core.display.Image object>"
      ]
     },
     "execution_count": 8,
     "metadata": {},
     "output_type": "execute_result"
    }
   ],
   "source": [
    "model.summary()\n",
    "tf.keras.utils.plot_model(model)"
   ]
  },
  {
   "cell_type": "code",
   "execution_count": 12,
   "id": "7b463628",
   "metadata": {},
   "outputs": [
    {
     "name": "stdout",
     "output_type": "stream",
     "text": [
      "Epoch 1/30\n",
      "469/469 [==============================] - ETA: 0s - loss: 0.5781 - accuracy: 0.6717\n",
      "Epoch 00001: val_accuracy improved from -inf to 0.67840, saving model to /Users/davidli/Documents/asu/cis509/assignment1/\n",
      "INFO:tensorflow:Assets written to: /Users/davidli/Documents/asu/cis509/assignment1/assets\n",
      "469/469 [==============================] - 8s 16ms/step - loss: 0.5781 - accuracy: 0.6717 - val_loss: 0.6092 - val_accuracy: 0.6784\n",
      "Epoch 2/30\n",
      "468/469 [============================>.] - ETA: 0s - loss: 0.5603 - accuracy: 0.6982\n",
      "Epoch 00002: val_accuracy did not improve from 0.67840\n",
      "469/469 [==============================] - 7s 14ms/step - loss: 0.5602 - accuracy: 0.6984 - val_loss: 0.5984 - val_accuracy: 0.6712\n",
      "Epoch 3/30\n",
      "469/469 [==============================] - ETA: 0s - loss: 0.5398 - accuracy: 0.7179\n",
      "Epoch 00003: val_accuracy improved from 0.67840 to 0.68400, saving model to /Users/davidli/Documents/asu/cis509/assignment1/\n",
      "INFO:tensorflow:Assets written to: /Users/davidli/Documents/asu/cis509/assignment1/assets\n",
      "469/469 [==============================] - 8s 16ms/step - loss: 0.5398 - accuracy: 0.7179 - val_loss: 0.5882 - val_accuracy: 0.6840\n",
      "Epoch 4/30\n",
      "467/469 [============================>.] - ETA: 0s - loss: 0.5174 - accuracy: 0.7441\n",
      "Epoch 00004: val_accuracy improved from 0.68400 to 0.70560, saving model to /Users/davidli/Documents/asu/cis509/assignment1/\n",
      "INFO:tensorflow:Assets written to: /Users/davidli/Documents/asu/cis509/assignment1/assets\n",
      "469/469 [==============================] - 7s 16ms/step - loss: 0.5176 - accuracy: 0.7435 - val_loss: 0.5765 - val_accuracy: 0.7056\n",
      "Epoch 5/30\n",
      "466/469 [============================>.] - ETA: 0s - loss: 0.4903 - accuracy: 0.7712\n",
      "Epoch 00005: val_accuracy did not improve from 0.70560\n",
      "469/469 [==============================] - 7s 14ms/step - loss: 0.4903 - accuracy: 0.7709 - val_loss: 0.5720 - val_accuracy: 0.7040\n",
      "Epoch 6/30\n",
      "466/469 [============================>.] - ETA: 0s - loss: 0.4637 - accuracy: 0.7867\n",
      "Epoch 00006: val_accuracy improved from 0.70560 to 0.70960, saving model to /Users/davidli/Documents/asu/cis509/assignment1/\n",
      "INFO:tensorflow:Assets written to: /Users/davidli/Documents/asu/cis509/assignment1/assets\n",
      "469/469 [==============================] - 8s 16ms/step - loss: 0.4636 - accuracy: 0.7867 - val_loss: 0.5664 - val_accuracy: 0.7096\n",
      "Epoch 7/30\n",
      "469/469 [==============================] - ETA: 0s - loss: 0.4341 - accuracy: 0.8141\n",
      "Epoch 00007: val_accuracy improved from 0.70960 to 0.73120, saving model to /Users/davidli/Documents/asu/cis509/assignment1/\n",
      "INFO:tensorflow:Assets written to: /Users/davidli/Documents/asu/cis509/assignment1/assets\n",
      "469/469 [==============================] - 8s 16ms/step - loss: 0.4341 - accuracy: 0.8141 - val_loss: 0.5548 - val_accuracy: 0.7312\n",
      "Epoch 8/30\n",
      "469/469 [==============================] - ETA: 0s - loss: 0.4053 - accuracy: 0.8315\n",
      "Epoch 00008: val_accuracy did not improve from 0.73120\n",
      "469/469 [==============================] - 7s 14ms/step - loss: 0.4053 - accuracy: 0.8315 - val_loss: 0.5480 - val_accuracy: 0.7296\n",
      "Epoch 9/30\n",
      "469/469 [==============================] - ETA: 0s - loss: 0.3742 - accuracy: 0.8552\n",
      "Epoch 00009: val_accuracy improved from 0.73120 to 0.73360, saving model to /Users/davidli/Documents/asu/cis509/assignment1/\n",
      "INFO:tensorflow:Assets written to: /Users/davidli/Documents/asu/cis509/assignment1/assets\n",
      "469/469 [==============================] - 7s 16ms/step - loss: 0.3742 - accuracy: 0.8552 - val_loss: 0.5447 - val_accuracy: 0.7336\n",
      "Epoch 10/30\n",
      "469/469 [==============================] - ETA: 0s - loss: 0.3475 - accuracy: 0.8661\n",
      "Epoch 00010: val_accuracy did not improve from 0.73360\n",
      "469/469 [==============================] - 7s 14ms/step - loss: 0.3475 - accuracy: 0.8661 - val_loss: 0.5433 - val_accuracy: 0.7320\n",
      "Epoch 11/30\n",
      "469/469 [==============================] - ETA: 0s - loss: 0.3171 - accuracy: 0.8856\n",
      "Epoch 00011: val_accuracy did not improve from 0.73360\n",
      "469/469 [==============================] - 7s 14ms/step - loss: 0.3171 - accuracy: 0.8856 - val_loss: 0.5815 - val_accuracy: 0.7280\n",
      "Epoch 12/30\n",
      "469/469 [==============================] - ETA: 0s - loss: 0.2890 - accuracy: 0.9099\n",
      "Epoch 00012: val_accuracy did not improve from 0.73360\n",
      "469/469 [==============================] - 7s 14ms/step - loss: 0.2890 - accuracy: 0.9099 - val_loss: 0.5630 - val_accuracy: 0.7280\n",
      "Epoch 13/30\n",
      "469/469 [==============================] - ETA: 0s - loss: 0.2624 - accuracy: 0.9160\n",
      "Epoch 00013: val_accuracy improved from 0.73360 to 0.73680, saving model to /Users/davidli/Documents/asu/cis509/assignment1/\n",
      "INFO:tensorflow:Assets written to: /Users/davidli/Documents/asu/cis509/assignment1/assets\n",
      "469/469 [==============================] - 8s 16ms/step - loss: 0.2624 - accuracy: 0.9160 - val_loss: 0.5505 - val_accuracy: 0.7368\n",
      "Epoch 14/30\n",
      "469/469 [==============================] - ETA: 0s - loss: 0.2395 - accuracy: 0.9315\n",
      "Epoch 00014: val_accuracy did not improve from 0.73680\n",
      "469/469 [==============================] - 7s 15ms/step - loss: 0.2395 - accuracy: 0.9315 - val_loss: 0.6366 - val_accuracy: 0.7240\n",
      "Epoch 15/30\n",
      "469/469 [==============================] - ETA: 0s - loss: 0.2133 - accuracy: 0.9381\n",
      "Epoch 00015: val_accuracy improved from 0.73680 to 0.73920, saving model to /Users/davidli/Documents/asu/cis509/assignment1/\n",
      "INFO:tensorflow:Assets written to: /Users/davidli/Documents/asu/cis509/assignment1/assets\n",
      "469/469 [==============================] - 8s 16ms/step - loss: 0.2133 - accuracy: 0.9381 - val_loss: 0.5837 - val_accuracy: 0.7392\n",
      "Epoch 16/30\n",
      "469/469 [==============================] - ETA: 0s - loss: 0.1895 - accuracy: 0.9531\n",
      "Epoch 00016: val_accuracy improved from 0.73920 to 0.74160, saving model to /Users/davidli/Documents/asu/cis509/assignment1/\n",
      "INFO:tensorflow:Assets written to: /Users/davidli/Documents/asu/cis509/assignment1/assets\n",
      "469/469 [==============================] - 8s 16ms/step - loss: 0.1895 - accuracy: 0.9531 - val_loss: 0.5747 - val_accuracy: 0.7416\n",
      "Epoch 17/30\n",
      "469/469 [==============================] - ETA: 0s - loss: 0.1683 - accuracy: 0.9619\n",
      "Epoch 00017: val_accuracy did not improve from 0.74160\n",
      "469/469 [==============================] - 7s 15ms/step - loss: 0.1683 - accuracy: 0.9619 - val_loss: 0.5864 - val_accuracy: 0.7408\n",
      "Epoch 18/30\n",
      "469/469 [==============================] - ETA: 0s - loss: 0.1499 - accuracy: 0.9680\n",
      "Epoch 00018: val_accuracy did not improve from 0.74160\n",
      "469/469 [==============================] - 7s 15ms/step - loss: 0.1499 - accuracy: 0.9680 - val_loss: 0.6459 - val_accuracy: 0.7360\n",
      "Epoch 19/30\n",
      "469/469 [==============================] - ETA: 0s - loss: 0.1324 - accuracy: 0.9755\n",
      "Epoch 00019: val_accuracy did not improve from 0.74160\n",
      "469/469 [==============================] - 7s 15ms/step - loss: 0.1324 - accuracy: 0.9755 - val_loss: 0.6094 - val_accuracy: 0.7224\n",
      "Epoch 20/30\n",
      "469/469 [==============================] - ETA: 0s - loss: 0.1159 - accuracy: 0.9800\n",
      "Epoch 00020: val_accuracy did not improve from 0.74160\n",
      "469/469 [==============================] - 7s 14ms/step - loss: 0.1159 - accuracy: 0.9800 - val_loss: 0.6251 - val_accuracy: 0.7368\n",
      "Epoch 21/30\n",
      "469/469 [==============================] - ETA: 0s - loss: 0.1029 - accuracy: 0.9827\n",
      "Epoch 00021: val_accuracy did not improve from 0.74160\n",
      "469/469 [==============================] - 7s 14ms/step - loss: 0.1029 - accuracy: 0.9827 - val_loss: 0.6959 - val_accuracy: 0.7320\n",
      "Epoch 22/30\n",
      "469/469 [==============================] - ETA: 0s - loss: 0.0931 - accuracy: 0.9851\n",
      "Epoch 00022: val_accuracy did not improve from 0.74160\n",
      "469/469 [==============================] - 7s 14ms/step - loss: 0.0931 - accuracy: 0.9851 - val_loss: 0.6683 - val_accuracy: 0.7352\n",
      "Epoch 23/30\n",
      "469/469 [==============================] - ETA: 0s - loss: 0.0815 - accuracy: 0.9899\n",
      "Epoch 00023: val_accuracy did not improve from 0.74160\n",
      "469/469 [==============================] - 7s 14ms/step - loss: 0.0815 - accuracy: 0.9899 - val_loss: 0.6770 - val_accuracy: 0.7336\n",
      "Epoch 24/30\n",
      "466/469 [============================>.] - ETA: 0s - loss: 0.0711 - accuracy: 0.9928\n",
      "Epoch 00024: val_accuracy did not improve from 0.74160\n",
      "469/469 [==============================] - 7s 14ms/step - loss: 0.0711 - accuracy: 0.9928 - val_loss: 0.6983 - val_accuracy: 0.7312\n"
     ]
    },
    {
     "name": "stdout",
     "output_type": "stream",
     "text": [
      "Epoch 25/30\n",
      "468/469 [============================>.] - ETA: 0s - loss: 0.0643 - accuracy: 0.9947\n",
      "Epoch 00025: val_accuracy did not improve from 0.74160\n",
      "469/469 [==============================] - 7s 14ms/step - loss: 0.0643 - accuracy: 0.9947 - val_loss: 0.7014 - val_accuracy: 0.7280\n",
      "Epoch 26/30\n",
      "466/469 [============================>.] - ETA: 0s - loss: 0.0580 - accuracy: 0.9944\n",
      "Epoch 00026: val_accuracy did not improve from 0.74160\n",
      "469/469 [==============================] - 7s 14ms/step - loss: 0.0580 - accuracy: 0.9941 - val_loss: 0.7057 - val_accuracy: 0.7160\n",
      "Epoch 27/30\n",
      "467/469 [============================>.] - ETA: 0s - loss: 0.0513 - accuracy: 0.9957\n",
      "Epoch 00027: val_accuracy did not improve from 0.74160\n",
      "469/469 [==============================] - 7s 14ms/step - loss: 0.0513 - accuracy: 0.9957 - val_loss: 0.7384 - val_accuracy: 0.7304\n",
      "Epoch 28/30\n",
      "467/469 [============================>.] - ETA: 0s - loss: 0.0469 - accuracy: 0.9965\n",
      "Epoch 00028: val_accuracy did not improve from 0.74160\n",
      "469/469 [==============================] - 7s 14ms/step - loss: 0.0470 - accuracy: 0.9965 - val_loss: 0.7985 - val_accuracy: 0.7280\n",
      "Epoch 29/30\n",
      "469/469 [==============================] - ETA: 0s - loss: 0.0423 - accuracy: 0.9968\n",
      "Epoch 00029: val_accuracy did not improve from 0.74160\n",
      "469/469 [==============================] - 7s 14ms/step - loss: 0.0423 - accuracy: 0.9968 - val_loss: 0.7681 - val_accuracy: 0.7256\n",
      "Epoch 30/30\n",
      "467/469 [============================>.] - ETA: 0s - loss: 0.0383 - accuracy: 0.9968\n",
      "Epoch 00030: val_accuracy did not improve from 0.74160\n",
      "469/469 [==============================] - 7s 14ms/step - loss: 0.0384 - accuracy: 0.9968 - val_loss: 0.7766 - val_accuracy: 0.7296\n"
     ]
    },
    {
     "data": {
      "text/plain": [
       "<keras.callbacks.History at 0x32d281700>"
      ]
     },
     "execution_count": 12,
     "metadata": {},
     "output_type": "execute_result"
    }
   ],
   "source": [
    "filepath = \"/Users/davidli/Documents/asu/cis509/assignment1/\"\n",
    "cp_callback = tf.keras.callbacks.ModelCheckpoint(filepath=filepath, save_best_only=True, monitor=\"val_accuracy\", mode=\"max\", verbose=2)\n",
    "model.fit(x=X, y=Y, batch_size = 8, validation_split=0.25, epochs=30, callbacks=cp_callback)"
   ]
  },
  {
   "cell_type": "code",
   "execution_count": 14,
   "id": "1a789e4a",
   "metadata": {},
   "outputs": [
    {
     "name": "stdout",
     "output_type": "stream",
     "text": [
      "Model: \"classifier\"\n",
      "_________________________________________________________________\n",
      " Layer (type)                Output Shape              Param #   \n",
      "=================================================================\n",
      " input_layer (InputLayer)    [(None, 10000)]           0         \n",
      "                                                                 \n",
      " hidden-layer-ReLU-1 (Dense)  (None, 5000)             50005000  \n",
      "                                                                 \n",
      " hidden-layer-ReLU-2 (Dense)  (None, 2500)             12502500  \n",
      "                                                                 \n",
      " output_layer (Dense)        (None, 1)                 2501      \n",
      "                                                                 \n",
      "=================================================================\n",
      "Total params: 62,510,001\n",
      "Trainable params: 62,510,001\n",
      "Non-trainable params: 0\n",
      "_________________________________________________________________\n"
     ]
    }
   ],
   "source": [
    "new_model = tf.keras.models.load_model(\"/Users/davidli/Documents/asu/cis509/assignment1/\")\n",
    "new_model.summary()"
   ]
  },
  {
   "cell_type": "code",
   "execution_count": 22,
   "id": "4c8f1292",
   "metadata": {},
   "outputs": [],
   "source": [
    "test = [\"Anarcho-capitalism, in my opinion, is a doctrinal system which, if ever implemented, would lead to forms of tyranny and oppression that have few counterparts in human history.\",\"Biden's Response to Putin's Invasion of Ukraine Has Been His Finest Moment\"]"
   ]
  },
  {
   "cell_type": "code",
   "execution_count": 28,
   "id": "b591d8f7",
   "metadata": {},
   "outputs": [
    {
     "data": {
      "text/plain": [
       "array([[1.],\n",
       "       [0.]], dtype=float32)"
      ]
     },
     "execution_count": 28,
     "metadata": {},
     "output_type": "execute_result"
    }
   ],
   "source": [
    "vectorized_new_data = vectorizer.transform(test)\n",
    "test_x = vectorized_new_data.toarray()\n",
    "np.rint(new_model.predict(test_x))\n"
   ]
  },
  {
   "cell_type": "code",
   "execution_count": null,
   "id": "2d8f9576",
   "metadata": {},
   "outputs": [],
   "source": []
  }
 ],
 "metadata": {
  "kernelspec": {
   "display_name": "Python 3 (ipykernel)",
   "language": "python",
   "name": "python3"
  },
  "language_info": {
   "codemirror_mode": {
    "name": "ipython",
    "version": 3
   },
   "file_extension": ".py",
   "mimetype": "text/x-python",
   "name": "python",
   "nbconvert_exporter": "python",
   "pygments_lexer": "ipython3",
   "version": "3.9.7"
  }
 },
 "nbformat": 4,
 "nbformat_minor": 5
}
